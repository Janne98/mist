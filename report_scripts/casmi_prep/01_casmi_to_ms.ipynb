{
 "cells": [
  {
   "cell_type": "code",
   "execution_count": null,
   "metadata": {},
   "outputs": [],
   "source": [
    "import glob\n",
    "\n",
    "import pandas as pd\n",
    "from pathlib import Path\n",
    "\n",
    "from rdkit import Chem\n",
    "from rdkit.Chem import rdFingerprintGenerator, rdMolDescriptors"
   ]
  },
  {
   "cell_type": "code",
   "execution_count": null,
   "metadata": {},
   "outputs": [],
   "source": [
    "OUTPUT_DIRECTORY = '../../data/paired_spectra/casmi2022/spec_files'\n",
    "Path(OUTPUT_DIRECTORY).mkdir(exist_ok=True)"
   ]
  },
  {
   "cell_type": "code",
   "execution_count": null,
   "metadata": {},
   "outputs": [],
   "source": [
    "df = pd.read_pickle('../../data/paired_spectra/casmi2022/processed_massformer/spec_df.pkl')\n",
    "print(len(df))\n",
    "df.head()"
   ]
  },
  {
   "cell_type": "code",
   "execution_count": null,
   "metadata": {},
   "outputs": [],
   "source": [
    "hydrogen_adduct = df[df['prec_type'] == '[M+H]+']\n",
    "len(hydrogen_adduct)"
   ]
  },
  {
   "cell_type": "code",
   "execution_count": null,
   "metadata": {},
   "outputs": [],
   "source": [
    "hydrogen_adduct['mol'] = hydrogen_adduct['smiles'].apply(Chem.MolFromSmiles)\n",
    "\n",
    "hydrogen_adduct['inchikey'] = hydrogen_adduct['mol'].apply(Chem.MolToInchiKey)\n",
    "\n",
    "hydrogen_adduct['formula'] = hydrogen_adduct['mol'].apply(rdMolDescriptors.CalcMolFormula)\n",
    "\n",
    "mfpgen = rdFingerprintGenerator.GetMorganGenerator(radius=2,fpSize=4096)\n",
    "hydrogen_adduct['fingerprint'] = hydrogen_adduct['mol'].apply(mfpgen.GetFingerprint)\n",
    "hydrogen_adduct.head()"
   ]
  },
  {
   "cell_type": "code",
   "execution_count": null,
   "metadata": {},
   "outputs": [],
   "source": [
    "def compound_to_ms_file(row):\n",
    "    \n",
    "    with open(f'{OUTPUT_DIRECTORY}/casmi2022_{row[\"casmi_id\"]}.ms', 'w') as f:\n",
    "        \n",
    "        f.write(f'>compound casmi2022_{row[\"casmi_id\"]}\\n')\n",
    "        f.write(f'>formula {row[\"formula\"]}\\n')\n",
    "        f.write(f'>parentmass {row[\"prec_mz\"]}\\n')\n",
    "        f.write(f'>rt {row[\"rt\"]}\\n')\n",
    "        f.write(f'>Ionization {row[\"prec_type\"]}\\n')\n",
    "        f.write(f'>InChI None\\n')\n",
    "        f.write(f'>InChIKey {row[\"inchikey\"]}\\n')\n",
    "        f.write(f'#smiles {row[\"smiles\"]}\\n')\n",
    "        f.write(f'#scans {row[\"spec_id\"]}\\n')\n",
    "        \n",
    "        f.write('\\n')\n",
    "        f.write(f'>ms2\\n')\n",
    "\n",
    "        for peak in row['peaks']:\n",
    "            f.write(f'{peak[0]} {peak[1]}\\n')"
   ]
  },
  {
   "cell_type": "code",
   "execution_count": null,
   "metadata": {},
   "outputs": [],
   "source": [
    "hydrogen_adduct.apply(compound_to_ms_file, axis=1)"
   ]
  },
  {
   "cell_type": "code",
   "execution_count": null,
   "metadata": {},
   "outputs": [],
   "source": [
    "# Create labels file for ...\n",
    "ms_files = glob.glob(f'{OUTPUT_DIRECTORY}/*.ms')\n",
    "\n",
    "df = pd.DataFrame(columns=['dataset', 'spec'])\n",
    "\n",
    "for ms_file in ms_files:\n",
    "    spec = ms_file.split('/')[-1].split('.')[0]\n",
    "    df.loc[len(df)] = {'dataset': 'casmi2022', 'spec': spec}\n",
    "\n",
    "df.to_csv('../../data/paired_spectra/casmi2022/labels.tsv', sep=\"\\t\", index=None)"
   ]
  },
  {
   "cell_type": "code",
   "execution_count": null,
   "metadata": {},
   "outputs": [],
   "source": [
    "# Create true labels file\n",
    "ms_files = glob.glob(f'{OUTPUT_DIRECTORY}/*.ms')\n",
    "\n",
    "df = pd.DataFrame(columns=['dataset', 'spec', 'name', 'ionization', 'formula', 'smiles', 'inchikey'])\n",
    "\n",
    "for ms_file in ms_files:\n",
    "    \n",
    "    spec = ms_file.split('/')[-1].split('.')[0]\n",
    "\n",
    "    spec_id = int(spec.split('_')[-1])\n",
    "    row = hydrogen_adduct[hydrogen_adduct['casmi_id'] == spec_id]\n",
    "    \n",
    "    df.loc[len(df)] = {'dataset': 'casmi2022', \n",
    "                       'spec': spec, \n",
    "                       'name': '', \n",
    "                       'ionization': row['prec_type'].values[0], \n",
    "                       'formula': row['formula'].values[0], \n",
    "                       'smiles': row['smiles'].values[0], \n",
    "                       'inchikey': row['inchikey'].values[0]}\n",
    "\n",
    "df.to_csv('../../data/paired_spectra/casmi2022/labels_true.tsv', sep=\"\\t\", index=None)"
   ]
  }
 ],
 "metadata": {
  "kernelspec": {
   "display_name": "ms-gen",
   "language": "python",
   "name": "python3"
  },
  "language_info": {
   "codemirror_mode": {
    "name": "ipython",
    "version": 3
   },
   "file_extension": ".py",
   "mimetype": "text/x-python",
   "name": "python",
   "nbconvert_exporter": "python",
   "pygments_lexer": "ipython3",
   "version": "3.8.18"
  }
 },
 "nbformat": 4,
 "nbformat_minor": 2
}
