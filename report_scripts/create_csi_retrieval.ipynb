{
 "cells": [
  {
   "cell_type": "code",
   "execution_count": null,
   "metadata": {},
   "outputs": [],
   "source": [
    "import glob\n",
    "import pickle\n",
    "import pandas as pd"
   ]
  },
  {
   "cell_type": "code",
   "execution_count": null,
   "metadata": {},
   "outputs": [],
   "source": [
    "labels_file = '../data/paired_spectra/casmi2022/labels_true.tsv'\n",
    "labels = pd.read_csv(labels_file, sep='\\t')\n",
    "compound_inchi = labels[['spec', 'inchikey']]\n",
    "\n",
    "ranks = []\n",
    "for compound_name, inchikey in compound_inchi.values:\n",
    "    \n",
    "    try:\n",
    "        compound_file = glob.glob(f'../data/paired_spectra/casmi2022/csi_outputs/*_{compound_name}_{compound_name}/structure_candidates.tsv')[0]\n",
    "        \n",
    "    except:\n",
    "        print(compound_name, \"File not found\")\n",
    "        ranks.append(None)\n",
    "        continue\n",
    "\n",
    "    pred_compounds = pd.read_csv(compound_file, sep='\\t')\n",
    "    inchi_planar = inchikey.split('-')[0]\n",
    "\n",
    "    compound_rank = pred_compounds.index[pred_compounds['InChIkey2D'] == inchi_planar].values\n",
    "    \n",
    "    if len(compound_rank) == 0:\n",
    "        ranks.append(None)\n",
    "    else:\n",
    "        ranks.append(compound_rank[0]+1)\n",
    "\n",
    "assert len(ranks) == len(compound_inchi)"
   ]
  },
  {
   "cell_type": "code",
   "execution_count": null,
   "metadata": {},
   "outputs": [],
   "source": [
    "ind_found_dict = {'names': compound_inchi['spec'].values, 'ind_found': ranks}\n",
    "\n",
    "save_name = '../data/paired_spectra/casmi2022/prev_results/csi_ind_found.p'\n",
    "with open(save_name, \"wb\") as output_file:\n",
    "    pickle.dump(ind_found_dict, output_file)"
   ]
  }
 ],
 "metadata": {
  "kernelspec": {
   "display_name": "falcon-env",
   "language": "python",
   "name": "python3"
  },
  "language_info": {
   "codemirror_mode": {
    "name": "ipython",
    "version": 3
   },
   "file_extension": ".py",
   "mimetype": "text/x-python",
   "name": "python",
   "nbconvert_exporter": "python",
   "pygments_lexer": "ipython3",
   "version": "3.8.18"
  }
 },
 "nbformat": 4,
 "nbformat_minor": 2
}
