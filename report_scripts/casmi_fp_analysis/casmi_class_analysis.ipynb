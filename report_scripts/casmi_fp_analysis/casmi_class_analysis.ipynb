{
 "cells": [
  {
   "cell_type": "code",
   "execution_count": null,
   "metadata": {},
   "outputs": [],
   "source": [
    "import pandas as pd\n",
    "import numpy as np"
   ]
  },
  {
   "cell_type": "code",
   "execution_count": null,
   "metadata": {},
   "outputs": [],
   "source": [
    "df = pd.read_pickle(\n",
    "    \"../../data/paired_spectra/casmi2022/processed_massformer/spec_df.pkl\"\n",
    ")\n",
    "df_h = df[df[\"prec_type\"] == \"[M+H]+\"]\n",
    "print(len(df_h))\n",
    "df_h.head()\n",
    "smiles_h = df_h[\"smiles\"].to_list()"
   ]
  },
  {
   "cell_type": "code",
   "execution_count": null,
   "metadata": {},
   "outputs": [],
   "source": [
    "df_h[\"name\"] = \"casmi2022_\" + df_h[\"casmi_id\"].astype(str)\n",
    "df_h.reset_index(drop=True, inplace=True)\n",
    "df_h.head()"
   ]
  },
  {
   "cell_type": "code",
   "execution_count": null,
   "metadata": {},
   "outputs": [],
   "source": [
    "for smi in smiles_h:\n",
    "    print(smi)"
   ]
  },
  {
   "cell_type": "code",
   "execution_count": null,
   "metadata": {},
   "outputs": [],
   "source": [
    "cls_file = \"../../data/paired_spectra/casmi2022/classyfire_casmi.csv\"\n",
    "df_cls = pd.read_csv(cls_file)\n",
    "df_cls.head(40)"
   ]
  },
  {
   "cell_type": "code",
   "execution_count": null,
   "metadata": {},
   "outputs": [],
   "source": [
    "# remove rows where ChemOntID is NotAvailable\n",
    "df_cls = df_cls[df_cls[\"ChemOntID\"] != \"NotAvailable\"]\n",
    "df_cls.head()"
   ]
  },
  {
   "cell_type": "code",
   "execution_count": null,
   "metadata": {},
   "outputs": [],
   "source": [
    "# split classifiedResults column on :\n",
    "df_cls[[\"level\", \"value\"]] = df_cls[\"ClassifiedResults\"].str.split(\n",
    "    \": \", expand=True\n",
    ")\n",
    "# remove rows where level is alternative parent\n",
    "df_cls = df_cls[df_cls[\"level\"] != \"alternative_parents\"]\n",
    "df_cls.head(20)"
   ]
  },
  {
   "cell_type": "code",
   "execution_count": null,
   "metadata": {},
   "outputs": [],
   "source": [
    "# compress df_cls on CompoundID by creating column for each level\n",
    "levels = df_cls[\"level\"].unique()\n",
    "ids = [int(id.split(\"-\")[-1]) - 1 for id in df_cls[\"CompoundID\"].unique()]\n",
    "df_comp = pd.DataFrame(index=ids, columns=levels)\n",
    "\n",
    "for i, row in df_cls.iterrows():\n",
    "    df_comp.loc[int(row[\"CompoundID\"].split(\"-\")[-1]) - 1, row[\"level\"]] = row[\n",
    "        \"value\"\n",
    "    ]\n",
    "\n",
    "df_comp.head(20)"
   ]
  },
  {
   "cell_type": "code",
   "execution_count": null,
   "metadata": {},
   "outputs": [],
   "source": [
    "# insert rows to make id increment by 1\n",
    "missing_ids = set(np.arange(1, len(df_h), 1)) - set(df_comp.index.astype(int))\n",
    "missing_df = pd.DataFrame(index=list(missing_ids), columns=levels)\n",
    "df_complete = pd.concat([df_comp, missing_df])\n",
    "df_complete.index = df_complete.index.astype(int)\n",
    "df_complete.sort_index(inplace=True)\n",
    "\n",
    "print(len(df_complete))\n",
    "df_complete.head(30)"
   ]
  },
  {
   "cell_type": "code",
   "execution_count": null,
   "metadata": {},
   "outputs": [],
   "source": [
    "# join df_h and df_complete on index\n",
    "casmi_cls = df_h.join(df_complete, how=\"left\")\n",
    "print(len(casmi_cls))\n",
    "casmi_cls.head()"
   ]
  },
  {
   "cell_type": "code",
   "execution_count": null,
   "metadata": {},
   "outputs": [],
   "source": [
    "casmi_cls[levels] = casmi_cls[levels].fillna(\"Unclassified\")"
   ]
  },
  {
   "cell_type": "code",
   "execution_count": null,
   "metadata": {},
   "outputs": [],
   "source": [
    "casmi_cls.to_pickle(\n",
    "    \"../../data/paired_spectra/casmi2022/casmi_classyfire_results.pkl\"\n",
    ")"
   ]
  },
  {
   "cell_type": "code",
   "execution_count": null,
   "metadata": {},
   "outputs": [],
   "source": [
    "casmi_cls[\"Superclass\"].value_counts()"
   ]
  },
  {
   "cell_type": "code",
   "execution_count": null,
   "metadata": {},
   "outputs": [],
   "source": [
    "casmi_cls[\"Class\"].value_counts()"
   ]
  }
 ],
 "metadata": {
  "kernelspec": {
   "display_name": "Python 3",
   "language": "python",
   "name": "python3"
  },
  "language_info": {
   "codemirror_mode": {
    "name": "ipython",
    "version": 3
   },
   "file_extension": ".py",
   "mimetype": "text/x-python",
   "name": "python",
   "nbconvert_exporter": "python",
   "pygments_lexer": "ipython3",
   "version": "3.8.18"
  }
 },
 "nbformat": 4,
 "nbformat_minor": 2
}
