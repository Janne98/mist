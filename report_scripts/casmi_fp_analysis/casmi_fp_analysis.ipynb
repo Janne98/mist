{
 "cells": [
  {
   "cell_type": "code",
   "execution_count": null,
   "metadata": {},
   "outputs": [],
   "source": [
    "import h5py\n",
    "import numpy as np\n",
    "from rdkit import Chem\n",
    "from rdkit.Chem import AllChem, DataStructs\n",
    "import seaborn as sns\n",
    "import pandas as pd\n",
    "import pickle"
   ]
  },
  {
   "cell_type": "markdown",
   "metadata": {},
   "source": [
    "## True FP vs training set"
   ]
  },
  {
   "cell_type": "code",
   "execution_count": null,
   "metadata": {},
   "outputs": [],
   "source": [
    "mols_file = \"../../data/paired_spectra/canopus_train_public/labels.tsv\"\n",
    "split_file = \"../../data/paired_spectra/canopus_train_public/splits/canopus_hplus_100_0.csv\"\n",
    "\n",
    "all_mols = pd.read_csv(mols_file, sep=\"\\t\")\n",
    "split = pd.read_csv(split_file)\n",
    "\n",
    "train = split[split[\"Fold_100_0\"] == \"train\"]\n",
    "train_mols = all_mols[all_mols[\"spec\"].isin(train[\"name\"])]\n",
    "\n",
    "assert len(train) == len(train_mols)"
   ]
  },
  {
   "cell_type": "code",
   "execution_count": null,
   "metadata": {},
   "outputs": [],
   "source": [
    "def smiles_to_fp(smiles):\n",
    "    mol = Chem.MolFromSmiles(smiles)\n",
    "    fp = AllChem.GetMorganFingerprintAsBitVect(mol, 2, nBits=4096)\n",
    "    return fp"
   ]
  },
  {
   "cell_type": "code",
   "execution_count": null,
   "metadata": {},
   "outputs": [],
   "source": [
    "train_mols[\"fp\"] = train_mols[\"smiles\"].apply(smiles_to_fp)"
   ]
  },
  {
   "cell_type": "code",
   "execution_count": null,
   "metadata": {},
   "outputs": [],
   "source": [
    "# casmi_file = \"../../data/paired_spectra/casmi2022/labels_true.tsv\"\n",
    "# casmi_mols = pd.read_csv(casmi_file, sep=\"\\t\")\n",
    "casmi_file = \"../../data/paired_spectra/casmi2022/casmi_classyfire_results.pkl\"\n",
    "casmi_mols = pd.read_pickle(casmi_file)\n",
    "casmi_mols[\"fp\"] = casmi_mols[\"smiles\"].apply(smiles_to_fp)"
   ]
  },
  {
   "cell_type": "code",
   "execution_count": null,
   "metadata": {},
   "outputs": [],
   "source": [
    "# Find the most similar molecule in the training set for each CASMI molecule by Tanimoto similarity\n",
    "casmi_mols[\"train_true_most_similar\"] = None\n",
    "casmi_mols[\"train_true_similarity\"] = None\n",
    "for i, row in casmi_mols.iterrows():\n",
    "    fp = row[\"fp\"]\n",
    "    similarities = train_mols[\"fp\"].apply(\n",
    "        lambda x: DataStructs.TanimotoSimilarity(fp, x)\n",
    "    )\n",
    "    max_sim = similarities.max()\n",
    "    max_idx = similarities.idxmax()\n",
    "    casmi_mols.at[i, \"train_true_most_similar\"] = train_mols.loc[\n",
    "        max_idx, \"smiles\"\n",
    "    ]\n",
    "    casmi_mols.at[i, \"train_true_similarity\"] = max_sim"
   ]
  },
  {
   "cell_type": "code",
   "execution_count": null,
   "metadata": {},
   "outputs": [],
   "source": [
    "# Plot the distribution of similarities\n",
    "import matplotlib.pyplot as plt\n",
    "\n",
    "plt.hist(casmi_mols[\"train_true_similarity\"], bins=20)\n",
    "plt.xlabel(\"Tanimoto similarity\")\n",
    "plt.ylabel(\"Count\")\n",
    "plt.title(\"Similarity between true FP and training set\")\n",
    "plt.show()"
   ]
  },
  {
   "cell_type": "markdown",
   "metadata": {},
   "source": [
    "## predicted FP vs training set"
   ]
  },
  {
   "cell_type": "code",
   "execution_count": null,
   "metadata": {},
   "outputs": [],
   "source": [
    "pred_file = \"../../results/retrained_models/contrast_model_aug/retrieval_casmi2022/retrieval_canopus_hplus_100_0.p\"\n",
    "hdf_file = \"../../data/paired_spectra/casmi2022/retrieval_hdf/intpubchem_with_morgan4096_retrieval_db.hdf5\"\n",
    "\n",
    "with open(pred_file, \"rb\") as f:\n",
    "    preds = pickle.load(f)\n",
    "\n",
    "pred_inds = [inds[0] for inds in preds[\"ranking\"]]\n",
    "names = preds[\"names\"].tolist()\n",
    "print(names)\n",
    "print(pred_inds)\n",
    "\n",
    "db = h5py.File(hdf_file, \"r\")\n",
    "pred_fp = [db[\"fingerprints\"][i] for i in pred_inds]\n",
    "pred_fp_bs = [\"\".join(fp.astype(str)) for fp in pred_fp]\n",
    "pred_fp = [\n",
    "    DataStructs.cDataStructs.CreateFromBitString(fp) for fp in pred_fp_bs\n",
    "]\n",
    "\n",
    "print(casmi_mols[\"name\"].tolist())\n",
    "\n",
    "# Add to casmi_mols dataframe based on names\n",
    "casmi_mols[\"pred_fp\"] = None\n",
    "for i, name in enumerate(names):\n",
    "    casmi_mols.at[\n",
    "        casmi_mols.index[casmi_mols[\"name\"] == name][0], \"pred_fp\"\n",
    "    ] = pred_fp[i]\n",
    "\n",
    "# Find the most similar molecule in the training set for each CASMI molecule by Tanimoto similarity\n",
    "casmi_mols[\"pred_train_most_similar\"] = None\n",
    "casmi_mols[\"pred_train_similarity\"] = None\n",
    "for i, row in casmi_mols.iterrows():\n",
    "    fp = row[\"pred_fp\"]\n",
    "    similarities = train_mols[\"fp\"].apply(\n",
    "        lambda x: DataStructs.TanimotoSimilarity(fp, x)\n",
    "    )\n",
    "    max_sim = similarities.max()\n",
    "    max_idx = similarities.idxmax()\n",
    "    casmi_mols.at[i, \"pred_train_most_similar\"] = train_mols.loc[\n",
    "        max_idx, \"smiles\"\n",
    "    ]\n",
    "    casmi_mols.at[i, \"pred_train_similarity\"] = max_sim"
   ]
  },
  {
   "cell_type": "code",
   "execution_count": null,
   "metadata": {},
   "outputs": [],
   "source": [
    "# Plot the distribution of similarities\n",
    "plt.hist(casmi_mols[\"pred_train_similarity\"], bins=20)\n",
    "plt.xlabel(\"Tanimoto similarity\")\n",
    "plt.ylabel(\"Count\")\n",
    "plt.title(\"Similarity between predicted FP and training set\")\n",
    "plt.show()"
   ]
  },
  {
   "cell_type": "markdown",
   "metadata": {},
   "source": [
    "## pred FP vs true FP"
   ]
  },
  {
   "cell_type": "code",
   "execution_count": null,
   "metadata": {},
   "outputs": [],
   "source": [
    "# Find the most similar molecule in the CASMI set for each CASMI molecule by Tanimoto similarity\n",
    "casmi_mols[\"pred_true_most_similar\"] = None\n",
    "casmi_mols[\"pred_true_similarity\"] = None\n",
    "for i, row in casmi_mols.iterrows():\n",
    "    fp = row[\"pred_fp\"]\n",
    "    similarities = casmi_mols[\"fp\"].apply(\n",
    "        lambda x: DataStructs.TanimotoSimilarity(fp, x)\n",
    "    )\n",
    "    max_sim = similarities.max()\n",
    "    max_idx = similarities.idxmax()\n",
    "    casmi_mols.at[i, \"pred_true_most_similar\"] = casmi_mols.loc[\n",
    "        max_idx, \"smiles\"\n",
    "    ]\n",
    "    casmi_mols.at[i, \"pred_true_similarity\"] = max_sim"
   ]
  },
  {
   "cell_type": "code",
   "execution_count": null,
   "metadata": {},
   "outputs": [],
   "source": [
    "# Plot the distribution of similarities\n",
    "plt.hist(casmi_mols[\"pred_true_similarity\"], bins=20)\n",
    "plt.xlabel(\"Tanimoto similarity\")\n",
    "plt.ylabel(\"Count\")\n",
    "plt.title(\"Similarity between predicted FP and true FP\")\n",
    "plt.show()"
   ]
  },
  {
   "cell_type": "code",
   "execution_count": null,
   "metadata": {},
   "outputs": [],
   "source": [
    "casmi_mols.to_pickle(\"../../results/casmi_fp_analysis/casmi_mols_df.pkl\")\n",
    "casmi_mols.to_csv(\"../../results/casmi_fp_analysis/casmi_mols.tsv\", sep=\"\\t\")"
   ]
  },
  {
   "cell_type": "markdown",
   "metadata": {},
   "source": [
    "## True-train vs pred-train"
   ]
  },
  {
   "cell_type": "code",
   "execution_count": null,
   "metadata": {},
   "outputs": [],
   "source": [
    "plt.style.use([\"seaborn-white\", \"seaborn-paper\"])\n",
    "plt.rc(\"font\", family=\"sans serif\")\n",
    "# sns.set_palette(['#9e0059', '#6da7de', '#ee266d', '#dee000', '#eb861e'])\n",
    "sns.set_context(\"paper\", font_scale=1.3)"
   ]
  },
  {
   "cell_type": "code",
   "execution_count": null,
   "metadata": {},
   "outputs": [],
   "source": [
    "# count number of molecules where pred similarity is higher than pred-train similarity\n",
    "print(\n",
    "    f\"below diagonal: {sum(casmi_mols['train_true_similarity'] > casmi_mols['pred_train_similarity'])}\"\n",
    ")\n",
    "print(\n",
    "    f\"above diagoneal: {sum(casmi_mols['train_true_similarity'] < casmi_mols['pred_train_similarity'])}\"\n",
    ")\n",
    "print(\n",
    "    f\"on diagonal: {sum(casmi_mols['train_true_similarity'] == casmi_mols['pred_train_similarity'])}\"\n",
    ")\n",
    "\n",
    "# Scatterplot tanimoto similarities true-train vs pred-train\n",
    "sns.jointplot(\n",
    "    data=casmi_mols,\n",
    "    x=\"train_true_similarity\",\n",
    "    y=\"pred_train_similarity\",\n",
    "    kind=\"scatter\",\n",
    "    marginal_kws=dict(bins=np.arange(0, 1.01, 0.1)),\n",
    ")\n",
    "plt.plot([0, 1.01], [0, 1.01], \"k--\")\n",
    "plt.xlim([0, 1.01])\n",
    "plt.ylim([0, 1.01])\n",
    "plt.xlabel(\"Tanimoto similarity of true FP and NN in training set\")\n",
    "plt.ylabel(\"Tanimoto similarity of predicted FP and NN in training set\")\n",
    "plt.show()"
   ]
  },
  {
   "cell_type": "markdown",
   "metadata": {},
   "source": [
    "## Pred-true vs pred-train"
   ]
  },
  {
   "cell_type": "code",
   "execution_count": null,
   "metadata": {},
   "outputs": [],
   "source": [
    "# count number of molecules where pred similarity is higher than pred-train similarity\n",
    "print(\n",
    "    f\"below diagonal: {sum(casmi_mols['pred_true_similarity'] > casmi_mols['pred_train_similarity'])}\"\n",
    ")\n",
    "print(\n",
    "    f\"above diagoneal: {sum(casmi_mols['pred_true_similarity'] < casmi_mols['pred_train_similarity'])}\"\n",
    ")\n",
    "print(\n",
    "    f\"on diagonal: {sum(casmi_mols['pred_true_similarity'] == casmi_mols['pred_train_similarity'])}\"\n",
    ")\n",
    "# Scatterplot tanimoto similarities true-train vs pred-train\n",
    "sns.jointplot(\n",
    "    data=casmi_mols,\n",
    "    x=\"pred_true_similarity\",\n",
    "    y=\"pred_train_similarity\",\n",
    "    kind=\"scatter\",\n",
    "    # hue=\"Superclass\",\n",
    "    marginal_kws=dict(bins=np.arange(0, 1.01, 0.1)),\n",
    ")\n",
    "plt.plot([0, 1.01], [0, 1.01], \"k--\")\n",
    "plt.xlim([0, 1.01])\n",
    "plt.ylim([0, 1.01])\n",
    "plt.xlabel(\"Tanimoto similarity predicted vs. true\")\n",
    "plt.ylabel(\"Tanimoto similarity predicted vs. nearest training\")\n",
    "plt.legend(bbox_to_anchor=(1.2, 1.05))\n",
    "plt.show()"
   ]
  },
  {
   "cell_type": "code",
   "execution_count": null,
   "metadata": {},
   "outputs": [],
   "source": [
    "# plot violin plot of similarities per superclass\n",
    "\n",
    "superclass_sim = casmi_mols.melt(\n",
    "    id_vars=\"Superclass\",\n",
    "    value_vars=[\"pred_train_similarity\", \"pred_true_similarity\"],\n",
    "    var_name=\"similarity_type\",\n",
    "    value_name=\"similarity\",\n",
    ")\n",
    "\n",
    "# drop superclass with only 1 molecule\n",
    "superclass_sim = superclass_sim.groupby(\"Superclass\").filter(\n",
    "    # len(x) > 2 because we have 2 similarity types\n",
    "    lambda x: len(x)\n",
    "    > 2\n",
    ")\n",
    "\n",
    "superclass_sim[\"similarity\"] = superclass_sim[\"similarity\"].astype(float)\n",
    "fig = plt.figure(figsize=(12, 6))\n",
    "ax = plt.gca()\n",
    "sns.violinplot(\n",
    "    data=superclass_sim,\n",
    "    x=\"Superclass\",\n",
    "    y=\"similarity\",\n",
    "    hue=\"similarity_type\",\n",
    "    palette=\"tab10\",\n",
    "    split=False,\n",
    "    cut=0,\n",
    "    ax=ax,\n",
    ")\n",
    "# add number of molecules in each superclass to tick labels between brackets\n",
    "superclass_counts = casmi_mols.groupby(\"Superclass\").size()\n",
    "superclass_counts = superclass_counts[superclass_sim[\"Superclass\"].unique()]\n",
    "superclass_counts = superclass_counts.reset_index()\n",
    "superclass_counts[\"Superclass\"] = (\n",
    "    superclass_counts[\"Superclass\"]\n",
    "    + \" (\"\n",
    "    + superclass_counts[0].astype(str)\n",
    "    + \")\"\n",
    ")\n",
    "plt.xticks(\n",
    "    ticks=range(len(superclass_counts)), labels=superclass_counts[\"Superclass\"]\n",
    ")\n",
    "plt.xticks(rotation=90)\n",
    "plt.ylabel(\"Tanimoto similarity\")\n",
    "plt.xlabel(\"Superclass\")\n",
    "plt.ylim([0, 1])\n",
    "h, l = ax.get_legend_handles_labels()\n",
    "ax.legend(\n",
    "    h[:2],\n",
    "    [\"Annotated vs. nearest training\", \"Annotated vs. true\"],\n",
    "    loc=\"lower center\",\n",
    "    ncol=2,\n",
    ")\n",
    "# plt.show()\n",
    "\n",
    "save_name = \"../../results/casmi_fp_analysis/casmi_fp_analysis_violin.pdf\"\n",
    "plt.savefig(\n",
    "    save_name, format=\"pdf\", bbox_inches=\"tight\", dpi=600, transparent=True\n",
    ")"
   ]
  },
  {
   "cell_type": "code",
   "execution_count": null,
   "metadata": {},
   "outputs": [],
   "source": [
    "superclass_sim"
   ]
  }
 ],
 "metadata": {
  "kernelspec": {
   "display_name": "Python 3",
   "language": "python",
   "name": "python3"
  },
  "language_info": {
   "codemirror_mode": {
    "name": "ipython",
    "version": 3
   },
   "file_extension": ".py",
   "mimetype": "text/x-python",
   "name": "python",
   "nbconvert_exporter": "python",
   "pygments_lexer": "ipython3",
   "version": "3.8.18"
  }
 },
 "nbformat": 4,
 "nbformat_minor": 2
}
